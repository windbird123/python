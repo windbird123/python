{
 "cells": [
  {
   "cell_type": "code",
   "execution_count": 9,
   "metadata": {
    "collapsed": true
   },
   "outputs": [
    {
     "name": "stdout",
     "output_type": "stream",
     "text": [
      "4\n",
      "5\n"
     ]
    }
   ],
   "source": [
    "class Vehicle:\n",
    "  def __init__(self, num_wheels, type_of_tank, seat_capacity):\n",
    "    self.num_wheels = num_wheels\n",
    "    self.type_of_tank = type_of_tank\n",
    "    self.seat_capacity = seat_capacity\n",
    "\n",
    "  def number_of_wheels(self):\n",
    "    return self.num_wheels\n",
    "\n",
    "  def set_number_of_wheels(self, number):\n",
    "    self.num_wheels = number\n",
    "\n",
    "  @property\n",
    "  def seat_capacity333(self):\n",
    "    return self.__seat_capacity\n",
    "\n",
    "  @seat_capacity333.setter\n",
    "  def seat_capacity(self, number):\n",
    "    self.__seat_capacity = number\n",
    "\n",
    "  def make_noise(self):\n",
    "    print('VRUUUUUUUUUUUUUM')\n",
    "\n",
    "tesla_model_s = Vehicle(4, 'electric', 5)\n",
    "\n",
    "# number_of_wheels() 처럼 괄호를 붙여 사용해야 한다.\n",
    "print(tesla_model_s.number_of_wheels())\n",
    "\n",
    "# seat_capacity() 이렇게 괄호를 붙여 호출하지 않는다.\n",
    "print(tesla_model_s.seat_capacity)\n"
   ]
  }
 ],
 "metadata": {
  "kernelspec": {
   "display_name": "Python 3",
   "language": "python",
   "name": "python3"
  },
  "language_info": {
   "codemirror_mode": {
    "name": "ipython",
    "version": 2
   },
   "file_extension": ".py",
   "mimetype": "text/x-python",
   "name": "python",
   "nbconvert_exporter": "python",
   "pygments_lexer": "ipython2",
   "version": "2.7.6"
  }
 },
 "nbformat": 4,
 "nbformat_minor": 0
}