{
 "cells": [
  {
   "cell_type": "code",
   "execution_count": 20,
   "metadata": {
    "collapsed": true
   },
   "outputs": [
    {
     "name": "stdout",
     "output_type": "stream",
     "text": [
      "<class 'float'>\n"
     ]
    }
   ],
   "source": [
    "## variable\n",
    "one = 1\n",
    "two = 2\n",
    "\n",
    "book_float = 15.80\n",
    "\n",
    "print(type(book_float))\n",
    "\n",
    "true_bool = True\n",
    "false_bool = False\n",
    "\n",
    "my_name = \"windbird\"\n",
    "\n",
    "r = 7 / 4  # 1.75\n",
    "q = 7 // 4  # 1\n"
   ]
  },
  {
   "cell_type": "code",
   "execution_count": 8,
   "outputs": [
    {
     "name": "stdout",
     "output_type": "stream",
     "text": [
      "01\n",
      "23456\n",
      "234\n",
      "6543210\n",
      "3\n"
     ]
    }
   ],
   "source": [
    "## strings\n",
    "food = \"Python's favorite food\"\n",
    "food2 = \"he said, \\\"python's favorite food\\\"\"\n",
    "multi_line = \"\"\"\n",
    "Life is too short\n",
    "You need python\n",
    "\"\"\"\n",
    "\n",
    "a = \"0123456\"\n",
    "aa = a * 2\n",
    "\n",
    "slice = a[0:2]\n",
    "print(slice)\n",
    "\n",
    "slice2 = a[2:]\n",
    "print(slice2)\n",
    "\n",
    "slice3 = a[:]\n",
    "\n",
    "slice4 = a[2:-2]\n",
    "print(slice4)\n",
    "\n",
    "reverse = a[::-1]\n",
    "print(reverse)\n",
    "\n",
    "len(aa)\n",
    "\n",
    "a = \"20010331Rainy\"\n",
    "year = a[:4]\n",
    "day = a[4:8]\n",
    "weather = a[8:]\n",
    "\n",
    "age = 12\n",
    "age_string = f\"my age is {age + 1}\""
   ],
   "metadata": {
    "collapsed": false,
    "pycharm": {
     "name": "#%%\n"
    }
   }
  },
  {
   "cell_type": "code",
   "execution_count": 1,
   "outputs": [
    {
     "name": "stdout",
     "output_type": "stream",
     "text": [
      "Hello python If\n",
      "2 is greater than 1\n"
     ]
    }
   ],
   "source": [
    "## control flow\n",
    "if True:\n",
    "    print(\"Hello python If\")\n",
    "\n",
    "if 1 > 2:\n",
    "    print(\"1 is greater than 2\")\n",
    "elif 2 > 1:\n",
    "    print(\"2 is greater than 1\")\n",
    "else:\n",
    "    print(\"1 is equal to 2\")\n",
    "\n",
    "\n"
   ],
   "metadata": {
    "collapsed": false,
    "pycharm": {
     "name": "#%%\n"
    }
   }
  },
  {
   "cell_type": "code",
   "execution_count": 3,
   "outputs": [
    {
     "name": "stdout",
     "output_type": "stream",
     "text": [
      "1\n",
      "2\n",
      "3\n",
      "4\n",
      "5\n",
      "6\n",
      "7\n",
      "8\n",
      "9\n",
      "10\n",
      "1\n",
      "2\n",
      "3\n",
      "4\n",
      "5\n",
      "6\n",
      "7\n",
      "8\n",
      "9\n",
      "10\n"
     ]
    }
   ],
   "source": [
    "## looping / iterator\n",
    "num = 1\n",
    "\n",
    "while num <= 10:\n",
    "    print(num)\n",
    "    num += 1\n",
    "\n",
    "for i in range(1, 11):\n",
    "    print(i)\n"
   ],
   "metadata": {
    "collapsed": false,
    "pycharm": {
     "name": "#%%\n"
    }
   }
  },
  {
   "cell_type": "code",
   "execution_count": 19,
   "outputs": [
    {
     "name": "stdout",
     "output_type": "stream",
     "text": [
      "5\n",
      "4\n",
      "[4, 16]\n",
      "5 and a\n",
      "7 and b\n",
      "2 and c\n",
      "3 and d\n",
      "4 and e\n",
      "The 4 Hour work\n",
      "My name is Leandro\n",
      "age is 24\n"
     ]
    }
   ],
   "source": [
    "## list, dict\n",
    "my_integers = [5, 7, 2, 3, 4]\n",
    "print(my_integers[0])\n",
    "print(my_integers[4])\n",
    "\n",
    "x2 = [x ** 2 for x in my_integers if x % 2 == 0]\n",
    "print(x2)\n",
    "\n",
    "my_alpha = ['a', 'b', 'c', 'd', 'e']\n",
    "for i, a in zip(my_integers, my_alpha):\n",
    "    print(f\"{i} and {a}\")\n",
    "\n",
    "bookshelf = []\n",
    "bookshelf.append(\"The Effective Engineer\")\n",
    "bookshelf.append(\"The 4 Hour work\")\n",
    "print(bookshelf[1])\n",
    "\n",
    "dictionary_tk = {\n",
    "    \"name\": \"Leandro\",\n",
    "    \"nickname\": \"Tk\",\n",
    "    \"nationality\": \"Brazilian\"\n",
    "}\n",
    "\n",
    "dictionary_tk['age'] = 24\n",
    "\n",
    "print(\"My name is %s\" % (dictionary_tk[\"name\"]))\n",
    "print(\"age is %d\" % (dictionary_tk['age']))\n"
   ],
   "metadata": {
    "collapsed": false,
    "pycharm": {
     "name": "#%%\n"
    }
   }
  },
  {
   "cell_type": "code",
   "execution_count": 15,
   "outputs": [
    {
     "name": "stdout",
     "output_type": "stream",
     "text": [
      "The Effective Engineer\n",
      "The 4 hours work week\n",
      "Zero to One\n",
      "Lean Startup\n",
      "some_key --> some_value\n",
      "some_key --> some_value\n"
     ]
    }
   ],
   "source": [
    "## iteration\n",
    "bookshelf = [\n",
    "    \"The Effective Engineer\",\n",
    "    \"The 4 hours work week\",\n",
    "    \"Zero to One\",\n",
    "    \"Lean Startup\"\n",
    "]\n",
    "\n",
    "for book in bookshelf:\n",
    "    print(book)\n",
    "\n",
    "dictionary = {\"some_key\": \"some_value\"}\n",
    "for key in dictionary:\n",
    "    print(\"%s --> %s\" % (key, dictionary[key]))\n",
    "\n",
    "for key, value in dictionary.items():\n",
    "    print(\"%s --> %s\" % (key, value))\n",
    "\n"
   ],
   "metadata": {
    "collapsed": false,
    "pycharm": {
     "name": "#%%\n"
    }
   }
  }
 ],
 "metadata": {
  "kernelspec": {
   "display_name": "Python 3",
   "language": "python",
   "name": "python3"
  },
  "language_info": {
   "codemirror_mode": {
    "name": "ipython",
    "version": 2
   },
   "file_extension": ".py",
   "mimetype": "text/x-python",
   "name": "python",
   "nbconvert_exporter": "python",
   "pygments_lexer": "ipython2",
   "version": "2.7.6"
  }
 },
 "nbformat": 4,
 "nbformat_minor": 0
}