{
 "cells": [
  {
   "cell_type": "code",
   "execution_count": 1,
   "metadata": {
    "collapsed": true
   },
   "outputs": [
    {
     "name": "stdout",
     "output_type": "stream",
     "text": [
      "TK\n",
      "JJJ\n",
      "JJJ\n",
      "JJJ\n",
      "KKKK\n",
      "KKKK\n"
     ]
    }
   ],
   "source": [
    "# Public Instance Variables\n",
    "class Person:\n",
    "  last_name = 'JJJ'\n",
    "\n",
    "  def __init__(self, first_name, email):\n",
    "    self.first_name = first_name\n",
    "    self._email = email # non-public variable (can access ..), just convention\n",
    "\n",
    "  def update_email(self, new_email):\n",
    "    self._email = new_email\n",
    "\n",
    "  def email(self):\n",
    "    return self._email\n",
    "\n",
    "  def _get_email(self): # private method, just convention\n",
    "    return self.email()\n",
    "\n",
    "tk = Person('TK', 'windbird@mail')\n",
    "print(tk.first_name)\n",
    "print(tk.last_name)\n",
    "\n",
    "bb = Person('bb', 'bb@mail')\n",
    "print(bb.last_name)\n",
    "print(tk.last_name)\n",
    "\n",
    "Person.last_name = 'KKKK'\n",
    "print(bb.last_name)\n",
    "print(tk.last_name)\n",
    "\n"
   ]
  }
 ],
 "metadata": {
  "kernelspec": {
   "display_name": "Python 3",
   "language": "python",
   "name": "python3"
  },
  "language_info": {
   "codemirror_mode": {
    "name": "ipython",
    "version": 2
   },
   "file_extension": ".py",
   "mimetype": "text/x-python",
   "name": "python",
   "nbconvert_exporter": "python",
   "pygments_lexer": "ipython2",
   "version": "2.7.6"
  }
 },
 "nbformat": 4,
 "nbformat_minor": 0
}