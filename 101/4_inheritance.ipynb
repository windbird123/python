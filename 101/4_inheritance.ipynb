{
 "cells": [
  {
   "cell_type": "code",
   "execution_count": 1,
   "metadata": {
    "collapsed": true
   },
   "outputs": [
    {
     "name": "stdout",
     "output_type": "stream",
     "text": [
      "4\n",
      "5\n"
     ]
    }
   ],
   "source": [
    "class Car:\n",
    "  def __init__(self, number_of_wheels):\n",
    "    self.num_of_wheels = number_of_wheels\n",
    "\n",
    "class ElectricCar(Car):\n",
    "  def __init__(self, number_of_wheels, seating_capacity):\n",
    "    Car.__init__(self, number_of_wheels)\n",
    "    self.seating_capacity = seating_capacity\n",
    "\n",
    "my_car = ElectricCar(4, 5)\n",
    "print(my_car.num_of_wheels)\n",
    "print(my_car.seating_capacity)\n"
   ]
  }
 ],
 "metadata": {
  "kernelspec": {
   "display_name": "Python 3",
   "language": "python",
   "name": "python3"
  },
  "language_info": {
   "codemirror_mode": {
    "name": "ipython",
    "version": 2
   },
   "file_extension": ".py",
   "mimetype": "text/x-python",
   "name": "python",
   "nbconvert_exporter": "python",
   "pygments_lexer": "ipython2",
   "version": "2.7.6"
  }
 },
 "nbformat": 4,
 "nbformat_minor": 0
}