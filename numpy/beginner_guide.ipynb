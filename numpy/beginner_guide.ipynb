{
 "cells": [
  {
   "cell_type": "code",
   "execution_count": 2,
   "metadata": {
    "collapsed": true
   },
   "outputs": [
    {
     "data": {
      "text/plain": "(2, 3)"
     },
     "execution_count": 2,
     "metadata": {},
     "output_type": "execute_result"
    }
   ],
   "source": [
    "import numpy as np\n",
    "\n",
    "x = np.array([1,2,3])\n",
    "y = np.array([4,5,6])\n",
    "\n",
    "m = np.array([x, y])\n",
    "m.shape"
   ]
  },
  {
   "cell_type": "code",
   "execution_count": 6,
   "outputs": [
    {
     "name": "stdout",
     "output_type": "stream",
     "text": [
      "1-------------------\n",
      "[ 0  2  4  6  8 10 12 14 16 18 20 22 24 26 28]\n",
      "2-------------------\n",
      "[[ 0  2  4  6  8]\n",
      " [10 12 14 16 18]\n",
      " [20 22 24 26 28]]\n",
      "3-------------------\n",
      "[0.  1.8 3.6 5.4 7.2 9. ]\n",
      "4-------------------\n",
      "[[0.  1.8]\n",
      " [3.6 5.4]\n",
      " [7.2 9. ]]\n"
     ]
    }
   ],
   "source": [
    "import numpy as np\n",
    "n = np.arange(0, 30, 2)\n",
    "\n",
    "n = n.reshape(3, 5)\n",
    "\n",
    "k = np.linspace(0, 9, 6)\n",
    "\n",
    "k.resize(3, 2)"
   ],
   "metadata": {
    "collapsed": false,
    "pycharm": {
     "name": "#%%\n"
    }
   }
  },
  {
   "cell_type": "code",
   "execution_count": 21,
   "outputs": [
    {
     "data": {
      "text/plain": "array([[1, 1, 2, 2],\n       [3, 3, 4, 4]])"
     },
     "execution_count": 21,
     "metadata": {},
     "output_type": "execute_result"
    }
   ],
   "source": [
    "np.ones([2, 3])\n",
    "np.zeros([2,3])\n",
    "np.eye(3)\n",
    "np.diag([1,2,3,4])\n",
    "np.array([1,2,3] * 2)\n",
    "np.repeat([1,2,3], 2)\n",
    "np.repeat([[1,2], [3,4]], 2)\n",
    "np.repeat([[1,2], [3,4]], 2, axis=0)\n",
    "np.repeat([[1,2], [3,4]], 2, axis=1)\n",
    "\n"
   ],
   "metadata": {
    "collapsed": false,
    "pycharm": {
     "name": "#%%\n"
    }
   }
  },
  {
   "cell_type": "code",
   "execution_count": 23,
   "outputs": [
    {
     "data": {
      "text/plain": "array([[1, 1, 1, 2, 2, 2],\n       [1, 1, 1, 2, 2, 2]])"
     },
     "execution_count": 23,
     "metadata": {},
     "output_type": "execute_result"
    }
   ],
   "source": [
    "p = np.ones([2, 3], int)\n",
    "np.vstack([p, 2*p])\n",
    "np.hstack([p, 2*p])\n"
   ],
   "metadata": {
    "collapsed": false,
    "pycharm": {
     "name": "#%%\n"
    }
   }
  },
  {
   "cell_type": "code",
   "execution_count": 27,
   "outputs": [
    {
     "data": {
      "text/plain": "32"
     },
     "execution_count": 27,
     "metadata": {},
     "output_type": "execute_result"
    }
   ],
   "source": [
    "x = np.array([1,2,3])\n",
    "y = np.array([4,5,6])\n",
    "\n",
    "x * y\n",
    "x + y\n",
    "x ** 2\n",
    "x.dot(y)\n"
   ],
   "metadata": {
    "collapsed": false,
    "pycharm": {
     "name": "#%%\n"
    }
   }
  },
  {
   "cell_type": "code",
   "execution_count": 29,
   "outputs": [
    {
     "data": {
      "text/plain": "(3, 2)"
     },
     "execution_count": 29,
     "metadata": {},
     "output_type": "execute_result"
    }
   ],
   "source": [
    "y = np.array([4,5,6])\n",
    "z = np.array([y, y**2])\n",
    "z.shape\n",
    "z.T.shape\n",
    "\n"
   ],
   "metadata": {
    "collapsed": false,
    "pycharm": {
     "name": "#%%\n"
    }
   }
  },
  {
   "cell_type": "code",
   "execution_count": 32,
   "outputs": [
    {
     "data": {
      "text/plain": "0"
     },
     "execution_count": 32,
     "metadata": {},
     "output_type": "execute_result"
    }
   ],
   "source": [
    "a = np.array([-4, -3, 1, 0, 5])\n",
    "a.sum()\n",
    "a.max()\n",
    "a.min()\n",
    "a.mean()\n",
    "\n",
    "a.argmax()\n",
    "a.argmin()\n"
   ],
   "metadata": {
    "collapsed": false,
    "pycharm": {
     "name": "#%%\n"
    }
   }
  },
  {
   "cell_type": "code",
   "execution_count": 33,
   "outputs": [
    {
     "data": {
      "text/plain": "array([0, 1, 4], dtype=int32)"
     },
     "execution_count": 33,
     "metadata": {},
     "output_type": "execute_result"
    }
   ],
   "source": [
    "s = np.arange(13) ** 2\n",
    "s[0]\n",
    "s[5]\n",
    "s[0:3]\n",
    "s[-3:]\n",
    "s[-4::-3]"
   ],
   "metadata": {
    "collapsed": false,
    "pycharm": {
     "name": "#%%\n"
    }
   }
  },
  {
   "cell_type": "code",
   "execution_count": 34,
   "outputs": [
    {
     "data": {
      "text/plain": "array([[ 3,  4,  5],\n       [ 9, 10, 11],\n       [15, 16, 17],\n       [21, 22, 23],\n       [27, 28, 29],\n       [33, 34, 35]])"
     },
     "execution_count": 34,
     "metadata": {},
     "output_type": "execute_result"
    }
   ],
   "source": [
    "r = np.arange(36)\n",
    "r.resize(6,6)\n",
    "\n",
    "r[3, 3:6]\n",
    "r[:, 3:6]\n",
    "r[r > 31]\n",
    "r[r > 31] = 0"
   ],
   "metadata": {
    "collapsed": false,
    "pycharm": {
     "name": "#%%\n"
    }
   }
  },
  {
   "cell_type": "code",
   "execution_count": 35,
   "outputs": [
    {
     "data": {
      "text/plain": "array([[ 1,  1,  1,  3,  4,  5],\n       [ 1,  1,  1,  9, 10, 11],\n       [ 1,  1,  1, 15, 16, 17],\n       [18, 19, 20, 21, 22, 23],\n       [24, 25, 26, 27, 28, 29],\n       [30, 31, 32, 33, 34, 35]])"
     },
     "execution_count": 35,
     "metadata": {},
     "output_type": "execute_result"
    }
   ],
   "source": [
    "r = np.arange(36)\n",
    "r.resize(6,6)\n",
    "\n",
    "r2 = r[:3, :3]\n",
    "r2[:] = 1\n",
    "r\n"
   ],
   "metadata": {
    "collapsed": false,
    "pycharm": {
     "name": "#%%\n"
    }
   }
  },
  {
   "cell_type": "code",
   "execution_count": null,
   "outputs": [],
   "source": [
    "\n",
    "r = np.arange(36)\n",
    "r.resize(6,6)\n",
    "\n",
    "r_copy = r.copy()\n",
    "r_copy[:] = 5\n",
    "r\n"
   ],
   "metadata": {
    "collapsed": false,
    "pycharm": {
     "name": "#%%\n"
    }
   }
  },
  {
   "cell_type": "code",
   "execution_count": 39,
   "outputs": [
    {
     "name": "stdout",
     "output_type": "stream",
     "text": [
      "[3 3 5]\n",
      "[8 8 5]\n",
      "[8 2 4]\n",
      "[7 3 5]\n",
      "row 0 is [3 3 5]\n",
      "row 1 is [8 8 5]\n",
      "row 2 is [8 2 4]\n",
      "row 3 is [7 3 5]\n",
      "[3 3 5] + [ 9  9 25] = [12 12 30]\n",
      "[8 8 5] + [64 64 25] = [72 72 30]\n",
      "[8 2 4] + [64  4 16] = [72  6 20]\n",
      "[7 3 5] + [49  9 25] = [56 12 30]\n"
     ]
    }
   ],
   "source": [
    "mylist = np.random.randint(0, 10, (4, 3))\n",
    "\n",
    "for row in mylist:\n",
    "    print(row)\n",
    "\n",
    "for i, row in enumerate(mylist):\n",
    "    print('row', i, 'is', row)\n",
    "\n",
    "\n",
    "mylist2 = mylist**2\n",
    "\n",
    "for i, j in zip(mylist, mylist2):\n",
    "    print(i, '+', j, '=', i + j)"
   ],
   "metadata": {
    "collapsed": false,
    "pycharm": {
     "name": "#%%\n"
    }
   }
  }
 ],
 "metadata": {
  "kernelspec": {
   "display_name": "Python 3",
   "language": "python",
   "name": "python3"
  },
  "language_info": {
   "codemirror_mode": {
    "name": "ipython",
    "version": 2
   },
   "file_extension": ".py",
   "mimetype": "text/x-python",
   "name": "python",
   "nbconvert_exporter": "python",
   "pygments_lexer": "ipython2",
   "version": "2.7.6"
  }
 },
 "nbformat": 4,
 "nbformat_minor": 0
}