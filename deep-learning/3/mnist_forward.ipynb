{
 "cells": [
  {
   "cell_type": "code",
   "execution_count": 5,
   "metadata": {
    "collapsed": true
   },
   "outputs": [
    {
     "name": "stdout",
     "output_type": "stream",
     "text": [
      "(60000, 784)\n",
      "(60000,)\n",
      "(10000, 784)\n",
      "(10000,)\n"
     ]
    }
   ],
   "source": [
    "\n",
    "import mnist\n",
    "\n",
    "(x_train, t_train), (x_test, t_test) = mnist.load_mnist(flatten=True, normalize=False)\n",
    "\n",
    "print(x_train.shape)\n",
    "print(t_train.shape)\n",
    "print(x_test.shape)\n",
    "print(t_test.shape)"
   ]
  },
  {
   "cell_type": "code",
   "execution_count": 10,
   "outputs": [
    {
     "name": "stdout",
     "output_type": "stream",
     "text": [
      "5\n",
      "(784,)\n"
     ]
    }
   ],
   "source": [
    "from PIL import Image\n",
    "\n",
    "def img_show(img):\n",
    "    pil_img = Image.fromarray(np.uint8(img))\n",
    "    pil_img.show()\n",
    "\n",
    "\n",
    "(x_train, t_train), (x_test, t_test) = mnist.load_mnist(flatten=True, normalize=False)\n",
    "\n",
    "img = x_train[0]\n",
    "label = t_train[0]\n",
    "print(label)\n",
    "\n",
    "print(img.shape)\n",
    "img = img.reshape(28, 28)\n",
    "\n",
    "img_show(img)\n",
    "\n"
   ],
   "metadata": {
    "collapsed": false,
    "pycharm": {
     "name": "#%%\n"
    }
   }
  },
  {
   "cell_type": "code",
   "execution_count": 20,
   "outputs": [
    {
     "name": "stdout",
     "output_type": "stream",
     "text": [
      "accuracy 0.9207\n"
     ]
    }
   ],
   "source": [
    "import numpy as np\n",
    "import pickle\n",
    "\n",
    "def softmax(a):\n",
    "  c = np.max(a)\n",
    "  exp_a = np.exp(a - c)\n",
    "  sum_exp_a = np.sum(exp_a)\n",
    "  y = exp_a / sum_exp_a\n",
    "  return y\n",
    "\n",
    "def sigmoid(x):\n",
    "    return 1 / (1 + np.exp(-x))\n",
    "\n",
    "def get_data():\n",
    "    (x_train, t_train), (x_test, t_test) = mnist.load_mnist(flatten=True, normalize=False)\n",
    "    return x_test, t_test\n",
    "\n",
    "def init_network():\n",
    "    with open(\"sample_weight.pkl\", 'rb') as f:\n",
    "        network = pickle.load(f)\n",
    "    return network\n",
    "\n",
    "def predict(network, x):\n",
    "    W1, W2, W3 = network['W1'], network['W2'], network['W3']\n",
    "    b1, b2, b3 = network['b1'], network['b2'], network['b3']\n",
    "\n",
    "    a1 = np.dot(x, W1) + b1\n",
    "    z1 = sigmoid(a1)\n",
    "    a2 = np.dot(z1, W2) + b2\n",
    "    z2 = sigmoid(a2)\n",
    "    a3 = np.dot(z2, W3) + b3\n",
    "    y = softmax(a3)\n",
    "\n",
    "    return y\n",
    "\n",
    "\n",
    "def run_each_row():\n",
    "    x, t = get_data()\n",
    "    network = init_network()\n",
    "\n",
    "    accuracy_cnt = 0\n",
    "    for i in range(len(x)):\n",
    "        y = predict(network, x[i])\n",
    "        p = np.argmax(y)\n",
    "\n",
    "        if p == t[i]:\n",
    "            accuracy_cnt += 1\n",
    "\n",
    "    accuracy_rate = accuracy_cnt / len(x)\n",
    "    print(f\"accuracy {accuracy_rate}\")\n",
    "\n",
    "def run_batch():\n",
    "    x, t = get_data()\n",
    "    network = init_network()\n",
    "\n",
    "    batch_size = 100\n",
    "    accuracy_cnt = 0\n",
    "\n",
    "    for i in range(0, len(x), batch_size):\n",
    "        x_batch = x[i: i+batch_size]\n",
    "        y_batch = predict(network,x_batch)\n",
    "\n",
    "        p = np.argmax(y_batch, axis=1)\n",
    "        accuracy_cnt += np.sum(p == t[i: i+batch_size])\n",
    "\n",
    "    accuracy_rate = accuracy_cnt / len(x)\n",
    "    print(f\"accuracy {accuracy_rate}\")\n",
    "\n",
    "# run_each_row()\n",
    "run_batch()"
   ],
   "metadata": {
    "collapsed": false,
    "pycharm": {
     "name": "#%%\n"
    }
   }
  }
 ],
 "metadata": {
  "kernelspec": {
   "display_name": "Python 3",
   "language": "python",
   "name": "python3"
  },
  "language_info": {
   "codemirror_mode": {
    "name": "ipython",
    "version": 2
   },
   "file_extension": ".py",
   "mimetype": "text/x-python",
   "name": "python",
   "nbconvert_exporter": "python",
   "pygments_lexer": "ipython2",
   "version": "2.7.6"
  }
 },
 "nbformat": 4,
 "nbformat_minor": 0
}